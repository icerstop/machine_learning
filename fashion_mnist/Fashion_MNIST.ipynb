{
  "nbformat": 4,
  "nbformat_minor": 0,
  "metadata": {
    "colab": {
      "provenance": [],
      "gpuType": "T4",
      "toc_visible": true
    },
    "kernelspec": {
      "name": "python3",
      "display_name": "Python 3"
    },
    "language_info": {
      "name": "python"
    },
    "accelerator": "GPU"
  },
  "cells": [
    {
      "cell_type": "markdown",
      "source": [
        "#FashionMNIST by FaszynIsMyPaszyn"
      ],
      "metadata": {
        "id": "lNm3p3fQlT9p"
      }
    },
    {
      "cell_type": "markdown",
      "source": [
        "##Setup"
      ],
      "metadata": {
        "id": "DuU4bceCpQ_s"
      }
    },
    {
      "cell_type": "code",
      "source": [
        "import torch\n",
        "from torch import nn\n",
        "import pandas as pd\n",
        "import numpy as np\n",
        "import matplotlib.pyplot as plt"
      ],
      "metadata": {
        "id": "hjWc9jD3zu96"
      },
      "execution_count": null,
      "outputs": []
    },
    {
      "cell_type": "markdown",
      "source": [
        "Ustawiamy device jako `cuda` jesli udało nam się połączyć do GPU (co nie zawsze jest możliwe), natomiast jeśli się nie udało to naszym device będzie `cpu`."
      ],
      "metadata": {
        "id": "olVpPeW1amMA"
      }
    },
    {
      "cell_type": "code",
      "source": [
        "device = \"cuda\" if torch.cuda.is_available() else \"cpu\"\n",
        "device"
      ],
      "metadata": {
        "colab": {
          "base_uri": "https://localhost:8080/",
          "height": 35
        },
        "id": "nT5Ki-hNz0JV",
        "outputId": "8deab7e6-9cf1-4ff4-8c14-3f1ba35a0b56"
      },
      "execution_count": null,
      "outputs": [
        {
          "output_type": "execute_result",
          "data": {
            "text/plain": [
              "'cuda'"
            ],
            "application/vnd.google.colaboratory.intrinsic+json": {
              "type": "string"
            }
          },
          "metadata": {},
          "execution_count": 2
        }
      ]
    },
    {
      "cell_type": "markdown",
      "source": [
        "Ponieważ pracujemy w notebooku online, a sesja  wyłącza się po jakimś czasie wczytywanie danych musi wyglądać w naszym przypadku tak, że każdorazowo pobieramy dane z Kaggle'a i tworzymy `pd.DataFrame df` z odpowiednich plików, które pobraliśmy."
      ],
      "metadata": {
        "id": "JFwGebZybFJZ"
      }
    },
    {
      "cell_type": "markdown",
      "source": [
        "##1. Wczytywanie danych\n",
        "\n",
        "Dataset: https://www.kaggle.com/datasets/zalando-research/fashionmnist\n",
        "\n",
        "Dataset składa się z 70 tysięcy zdjęć (10 tys na test i 60 tys na train), każde o rozmiarze `28x28` pixeli. Obraz jest reprezentowany jako wektor o rozmiarze `1x784` + 1 kolumna na label (liczba od 0 do 9), co finalnie daje DataFrame o rozmiarze `70000x785`.\n",
        "\n",
        "W datasetcie mamy 10 następujących klas:\n",
        "\n",
        "  0. T-shirt/top\n",
        "  1. Trouser\n",
        "  2. Pullover\n",
        "  3. Dress\n",
        "  4. Coat\n",
        "  5. Sandal\n",
        "  6. Shirt\n",
        "  7. Sneaker\n",
        "  8. Bag\n",
        "  9. Ankle boot\n",
        "\n",
        "\n",
        " Przykładowe zdjęcia z datasetu są umieszczone poniżej."
      ],
      "metadata": {
        "id": "GCwe6wDq0TE-"
      }
    },
    {
      "cell_type": "markdown",
      "source": [
        "###1.1 Pobieranie danych\n",
        "\n",
        "Do pobrania danych korzystamy z modułu `kagglehub`,  dzięki któremu możemy szybko pobrać wszystkie dane."
      ],
      "metadata": {
        "id": "OgIgNMWXoZSk"
      }
    },
    {
      "cell_type": "code",
      "source": [
        "import kagglehub\n",
        "from kagglehub import KaggleDatasetAdapter\n",
        "\n",
        "# Pobieramy dataset z Kaggla\n",
        "path = kagglehub.dataset_download(\"zalando-research/fashionmnist\")\n",
        "train_path = \"/kaggle/input/fashionmnist/fashion-mnist_train.csv\"\n",
        "test_path = \"/kaggle/input/fashionmnist/fashion-mnist_test.csv\"\n",
        "# Tworzymy DF\n",
        "df_train = pd.read_csv(train_path)\n",
        "df_test = pd.read_csv(test_path)\n",
        "df_train.head()"
      ],
      "metadata": {
        "id": "xL6Q1b6EzrGf",
        "colab": {
          "base_uri": "https://localhost:8080/",
          "height": 255
        },
        "outputId": "f6b756d8-0798-4279-ebc0-557269cfc325"
      },
      "execution_count": null,
      "outputs": [
        {
          "output_type": "execute_result",
          "data": {
            "text/plain": [
              "   label  pixel1  pixel2  pixel3  pixel4  pixel5  pixel6  pixel7  pixel8  \\\n",
              "0      2       0       0       0       0       0       0       0       0   \n",
              "1      9       0       0       0       0       0       0       0       0   \n",
              "2      6       0       0       0       0       0       0       0       5   \n",
              "3      0       0       0       0       1       2       0       0       0   \n",
              "4      3       0       0       0       0       0       0       0       0   \n",
              "\n",
              "   pixel9  ...  pixel775  pixel776  pixel777  pixel778  pixel779  pixel780  \\\n",
              "0       0  ...         0         0         0         0         0         0   \n",
              "1       0  ...         0         0         0         0         0         0   \n",
              "2       0  ...         0         0         0        30        43         0   \n",
              "3       0  ...         3         0         0         0         0         1   \n",
              "4       0  ...         0         0         0         0         0         0   \n",
              "\n",
              "   pixel781  pixel782  pixel783  pixel784  \n",
              "0         0         0         0         0  \n",
              "1         0         0         0         0  \n",
              "2         0         0         0         0  \n",
              "3         0         0         0         0  \n",
              "4         0         0         0         0  \n",
              "\n",
              "[5 rows x 785 columns]"
            ],
            "text/html": [
              "\n",
              "  <div id=\"df-edfa9d0f-b0c7-4afb-8958-5c161ab70f9c\" class=\"colab-df-container\">\n",
              "    <div>\n",
              "<style scoped>\n",
              "    .dataframe tbody tr th:only-of-type {\n",
              "        vertical-align: middle;\n",
              "    }\n",
              "\n",
              "    .dataframe tbody tr th {\n",
              "        vertical-align: top;\n",
              "    }\n",
              "\n",
              "    .dataframe thead th {\n",
              "        text-align: right;\n",
              "    }\n",
              "</style>\n",
              "<table border=\"1\" class=\"dataframe\">\n",
              "  <thead>\n",
              "    <tr style=\"text-align: right;\">\n",
              "      <th></th>\n",
              "      <th>label</th>\n",
              "      <th>pixel1</th>\n",
              "      <th>pixel2</th>\n",
              "      <th>pixel3</th>\n",
              "      <th>pixel4</th>\n",
              "      <th>pixel5</th>\n",
              "      <th>pixel6</th>\n",
              "      <th>pixel7</th>\n",
              "      <th>pixel8</th>\n",
              "      <th>pixel9</th>\n",
              "      <th>...</th>\n",
              "      <th>pixel775</th>\n",
              "      <th>pixel776</th>\n",
              "      <th>pixel777</th>\n",
              "      <th>pixel778</th>\n",
              "      <th>pixel779</th>\n",
              "      <th>pixel780</th>\n",
              "      <th>pixel781</th>\n",
              "      <th>pixel782</th>\n",
              "      <th>pixel783</th>\n",
              "      <th>pixel784</th>\n",
              "    </tr>\n",
              "  </thead>\n",
              "  <tbody>\n",
              "    <tr>\n",
              "      <th>0</th>\n",
              "      <td>2</td>\n",
              "      <td>0</td>\n",
              "      <td>0</td>\n",
              "      <td>0</td>\n",
              "      <td>0</td>\n",
              "      <td>0</td>\n",
              "      <td>0</td>\n",
              "      <td>0</td>\n",
              "      <td>0</td>\n",
              "      <td>0</td>\n",
              "      <td>...</td>\n",
              "      <td>0</td>\n",
              "      <td>0</td>\n",
              "      <td>0</td>\n",
              "      <td>0</td>\n",
              "      <td>0</td>\n",
              "      <td>0</td>\n",
              "      <td>0</td>\n",
              "      <td>0</td>\n",
              "      <td>0</td>\n",
              "      <td>0</td>\n",
              "    </tr>\n",
              "    <tr>\n",
              "      <th>1</th>\n",
              "      <td>9</td>\n",
              "      <td>0</td>\n",
              "      <td>0</td>\n",
              "      <td>0</td>\n",
              "      <td>0</td>\n",
              "      <td>0</td>\n",
              "      <td>0</td>\n",
              "      <td>0</td>\n",
              "      <td>0</td>\n",
              "      <td>0</td>\n",
              "      <td>...</td>\n",
              "      <td>0</td>\n",
              "      <td>0</td>\n",
              "      <td>0</td>\n",
              "      <td>0</td>\n",
              "      <td>0</td>\n",
              "      <td>0</td>\n",
              "      <td>0</td>\n",
              "      <td>0</td>\n",
              "      <td>0</td>\n",
              "      <td>0</td>\n",
              "    </tr>\n",
              "    <tr>\n",
              "      <th>2</th>\n",
              "      <td>6</td>\n",
              "      <td>0</td>\n",
              "      <td>0</td>\n",
              "      <td>0</td>\n",
              "      <td>0</td>\n",
              "      <td>0</td>\n",
              "      <td>0</td>\n",
              "      <td>0</td>\n",
              "      <td>5</td>\n",
              "      <td>0</td>\n",
              "      <td>...</td>\n",
              "      <td>0</td>\n",
              "      <td>0</td>\n",
              "      <td>0</td>\n",
              "      <td>30</td>\n",
              "      <td>43</td>\n",
              "      <td>0</td>\n",
              "      <td>0</td>\n",
              "      <td>0</td>\n",
              "      <td>0</td>\n",
              "      <td>0</td>\n",
              "    </tr>\n",
              "    <tr>\n",
              "      <th>3</th>\n",
              "      <td>0</td>\n",
              "      <td>0</td>\n",
              "      <td>0</td>\n",
              "      <td>0</td>\n",
              "      <td>1</td>\n",
              "      <td>2</td>\n",
              "      <td>0</td>\n",
              "      <td>0</td>\n",
              "      <td>0</td>\n",
              "      <td>0</td>\n",
              "      <td>...</td>\n",
              "      <td>3</td>\n",
              "      <td>0</td>\n",
              "      <td>0</td>\n",
              "      <td>0</td>\n",
              "      <td>0</td>\n",
              "      <td>1</td>\n",
              "      <td>0</td>\n",
              "      <td>0</td>\n",
              "      <td>0</td>\n",
              "      <td>0</td>\n",
              "    </tr>\n",
              "    <tr>\n",
              "      <th>4</th>\n",
              "      <td>3</td>\n",
              "      <td>0</td>\n",
              "      <td>0</td>\n",
              "      <td>0</td>\n",
              "      <td>0</td>\n",
              "      <td>0</td>\n",
              "      <td>0</td>\n",
              "      <td>0</td>\n",
              "      <td>0</td>\n",
              "      <td>0</td>\n",
              "      <td>...</td>\n",
              "      <td>0</td>\n",
              "      <td>0</td>\n",
              "      <td>0</td>\n",
              "      <td>0</td>\n",
              "      <td>0</td>\n",
              "      <td>0</td>\n",
              "      <td>0</td>\n",
              "      <td>0</td>\n",
              "      <td>0</td>\n",
              "      <td>0</td>\n",
              "    </tr>\n",
              "  </tbody>\n",
              "</table>\n",
              "<p>5 rows × 785 columns</p>\n",
              "</div>\n",
              "    <div class=\"colab-df-buttons\">\n",
              "\n",
              "  <div class=\"colab-df-container\">\n",
              "    <button class=\"colab-df-convert\" onclick=\"convertToInteractive('df-edfa9d0f-b0c7-4afb-8958-5c161ab70f9c')\"\n",
              "            title=\"Convert this dataframe to an interactive table.\"\n",
              "            style=\"display:none;\">\n",
              "\n",
              "  <svg xmlns=\"http://www.w3.org/2000/svg\" height=\"24px\" viewBox=\"0 -960 960 960\">\n",
              "    <path d=\"M120-120v-720h720v720H120Zm60-500h600v-160H180v160Zm220 220h160v-160H400v160Zm0 220h160v-160H400v160ZM180-400h160v-160H180v160Zm440 0h160v-160H620v160ZM180-180h160v-160H180v160Zm440 0h160v-160H620v160Z\"/>\n",
              "  </svg>\n",
              "    </button>\n",
              "\n",
              "  <style>\n",
              "    .colab-df-container {\n",
              "      display:flex;\n",
              "      gap: 12px;\n",
              "    }\n",
              "\n",
              "    .colab-df-convert {\n",
              "      background-color: #E8F0FE;\n",
              "      border: none;\n",
              "      border-radius: 50%;\n",
              "      cursor: pointer;\n",
              "      display: none;\n",
              "      fill: #1967D2;\n",
              "      height: 32px;\n",
              "      padding: 0 0 0 0;\n",
              "      width: 32px;\n",
              "    }\n",
              "\n",
              "    .colab-df-convert:hover {\n",
              "      background-color: #E2EBFA;\n",
              "      box-shadow: 0px 1px 2px rgba(60, 64, 67, 0.3), 0px 1px 3px 1px rgba(60, 64, 67, 0.15);\n",
              "      fill: #174EA6;\n",
              "    }\n",
              "\n",
              "    .colab-df-buttons div {\n",
              "      margin-bottom: 4px;\n",
              "    }\n",
              "\n",
              "    [theme=dark] .colab-df-convert {\n",
              "      background-color: #3B4455;\n",
              "      fill: #D2E3FC;\n",
              "    }\n",
              "\n",
              "    [theme=dark] .colab-df-convert:hover {\n",
              "      background-color: #434B5C;\n",
              "      box-shadow: 0px 1px 3px 1px rgba(0, 0, 0, 0.15);\n",
              "      filter: drop-shadow(0px 1px 2px rgba(0, 0, 0, 0.3));\n",
              "      fill: #FFFFFF;\n",
              "    }\n",
              "  </style>\n",
              "\n",
              "    <script>\n",
              "      const buttonEl =\n",
              "        document.querySelector('#df-edfa9d0f-b0c7-4afb-8958-5c161ab70f9c button.colab-df-convert');\n",
              "      buttonEl.style.display =\n",
              "        google.colab.kernel.accessAllowed ? 'block' : 'none';\n",
              "\n",
              "      async function convertToInteractive(key) {\n",
              "        const element = document.querySelector('#df-edfa9d0f-b0c7-4afb-8958-5c161ab70f9c');\n",
              "        const dataTable =\n",
              "          await google.colab.kernel.invokeFunction('convertToInteractive',\n",
              "                                                    [key], {});\n",
              "        if (!dataTable) return;\n",
              "\n",
              "        const docLinkHtml = 'Like what you see? Visit the ' +\n",
              "          '<a target=\"_blank\" href=https://colab.research.google.com/notebooks/data_table.ipynb>data table notebook</a>'\n",
              "          + ' to learn more about interactive tables.';\n",
              "        element.innerHTML = '';\n",
              "        dataTable['output_type'] = 'display_data';\n",
              "        await google.colab.output.renderOutput(dataTable, element);\n",
              "        const docLink = document.createElement('div');\n",
              "        docLink.innerHTML = docLinkHtml;\n",
              "        element.appendChild(docLink);\n",
              "      }\n",
              "    </script>\n",
              "  </div>\n",
              "\n",
              "\n",
              "    <div id=\"df-43dae7be-f38a-442f-84e0-b89e13318eb2\">\n",
              "      <button class=\"colab-df-quickchart\" onclick=\"quickchart('df-43dae7be-f38a-442f-84e0-b89e13318eb2')\"\n",
              "                title=\"Suggest charts\"\n",
              "                style=\"display:none;\">\n",
              "\n",
              "<svg xmlns=\"http://www.w3.org/2000/svg\" height=\"24px\"viewBox=\"0 0 24 24\"\n",
              "     width=\"24px\">\n",
              "    <g>\n",
              "        <path d=\"M19 3H5c-1.1 0-2 .9-2 2v14c0 1.1.9 2 2 2h14c1.1 0 2-.9 2-2V5c0-1.1-.9-2-2-2zM9 17H7v-7h2v7zm4 0h-2V7h2v10zm4 0h-2v-4h2v4z\"/>\n",
              "    </g>\n",
              "</svg>\n",
              "      </button>\n",
              "\n",
              "<style>\n",
              "  .colab-df-quickchart {\n",
              "      --bg-color: #E8F0FE;\n",
              "      --fill-color: #1967D2;\n",
              "      --hover-bg-color: #E2EBFA;\n",
              "      --hover-fill-color: #174EA6;\n",
              "      --disabled-fill-color: #AAA;\n",
              "      --disabled-bg-color: #DDD;\n",
              "  }\n",
              "\n",
              "  [theme=dark] .colab-df-quickchart {\n",
              "      --bg-color: #3B4455;\n",
              "      --fill-color: #D2E3FC;\n",
              "      --hover-bg-color: #434B5C;\n",
              "      --hover-fill-color: #FFFFFF;\n",
              "      --disabled-bg-color: #3B4455;\n",
              "      --disabled-fill-color: #666;\n",
              "  }\n",
              "\n",
              "  .colab-df-quickchart {\n",
              "    background-color: var(--bg-color);\n",
              "    border: none;\n",
              "    border-radius: 50%;\n",
              "    cursor: pointer;\n",
              "    display: none;\n",
              "    fill: var(--fill-color);\n",
              "    height: 32px;\n",
              "    padding: 0;\n",
              "    width: 32px;\n",
              "  }\n",
              "\n",
              "  .colab-df-quickchart:hover {\n",
              "    background-color: var(--hover-bg-color);\n",
              "    box-shadow: 0 1px 2px rgba(60, 64, 67, 0.3), 0 1px 3px 1px rgba(60, 64, 67, 0.15);\n",
              "    fill: var(--button-hover-fill-color);\n",
              "  }\n",
              "\n",
              "  .colab-df-quickchart-complete:disabled,\n",
              "  .colab-df-quickchart-complete:disabled:hover {\n",
              "    background-color: var(--disabled-bg-color);\n",
              "    fill: var(--disabled-fill-color);\n",
              "    box-shadow: none;\n",
              "  }\n",
              "\n",
              "  .colab-df-spinner {\n",
              "    border: 2px solid var(--fill-color);\n",
              "    border-color: transparent;\n",
              "    border-bottom-color: var(--fill-color);\n",
              "    animation:\n",
              "      spin 1s steps(1) infinite;\n",
              "  }\n",
              "\n",
              "  @keyframes spin {\n",
              "    0% {\n",
              "      border-color: transparent;\n",
              "      border-bottom-color: var(--fill-color);\n",
              "      border-left-color: var(--fill-color);\n",
              "    }\n",
              "    20% {\n",
              "      border-color: transparent;\n",
              "      border-left-color: var(--fill-color);\n",
              "      border-top-color: var(--fill-color);\n",
              "    }\n",
              "    30% {\n",
              "      border-color: transparent;\n",
              "      border-left-color: var(--fill-color);\n",
              "      border-top-color: var(--fill-color);\n",
              "      border-right-color: var(--fill-color);\n",
              "    }\n",
              "    40% {\n",
              "      border-color: transparent;\n",
              "      border-right-color: var(--fill-color);\n",
              "      border-top-color: var(--fill-color);\n",
              "    }\n",
              "    60% {\n",
              "      border-color: transparent;\n",
              "      border-right-color: var(--fill-color);\n",
              "    }\n",
              "    80% {\n",
              "      border-color: transparent;\n",
              "      border-right-color: var(--fill-color);\n",
              "      border-bottom-color: var(--fill-color);\n",
              "    }\n",
              "    90% {\n",
              "      border-color: transparent;\n",
              "      border-bottom-color: var(--fill-color);\n",
              "    }\n",
              "  }\n",
              "</style>\n",
              "\n",
              "      <script>\n",
              "        async function quickchart(key) {\n",
              "          const quickchartButtonEl =\n",
              "            document.querySelector('#' + key + ' button');\n",
              "          quickchartButtonEl.disabled = true;  // To prevent multiple clicks.\n",
              "          quickchartButtonEl.classList.add('colab-df-spinner');\n",
              "          try {\n",
              "            const charts = await google.colab.kernel.invokeFunction(\n",
              "                'suggestCharts', [key], {});\n",
              "          } catch (error) {\n",
              "            console.error('Error during call to suggestCharts:', error);\n",
              "          }\n",
              "          quickchartButtonEl.classList.remove('colab-df-spinner');\n",
              "          quickchartButtonEl.classList.add('colab-df-quickchart-complete');\n",
              "        }\n",
              "        (() => {\n",
              "          let quickchartButtonEl =\n",
              "            document.querySelector('#df-43dae7be-f38a-442f-84e0-b89e13318eb2 button');\n",
              "          quickchartButtonEl.style.display =\n",
              "            google.colab.kernel.accessAllowed ? 'block' : 'none';\n",
              "        })();\n",
              "      </script>\n",
              "    </div>\n",
              "\n",
              "    </div>\n",
              "  </div>\n"
            ],
            "application/vnd.google.colaboratory.intrinsic+json": {
              "type": "dataframe",
              "variable_name": "df_train"
            }
          },
          "metadata": {},
          "execution_count": 26
        }
      ]
    },
    {
      "cell_type": "markdown",
      "source": [
        "###1.2 Tworzenie DataLoader"
      ],
      "metadata": {
        "id": "N7c9Cp8ioEG5"
      }
    },
    {
      "cell_type": "code",
      "source": [
        "from torch.utils.data import Dataset, DataLoader\n",
        "\n",
        "class FashionSet(Dataset):\n",
        "  def __init__(self, df: pd.DataFrame):\n",
        "    self.y = torch.tensor(df[\"label\"].values, dtype=torch.long) # etykiety jako tensory\n",
        "    imgs = df.drop(columns=[\"label\"]).values.astype(np.float32) / 255.0\n",
        "    self.X = torch.tensor(imgs).view(-1, 1, 28, 28) # N obrazków, 1 kanał, 28x28 -> tensory\n",
        "\n",
        "  def __len__(self):\n",
        "    return len(self.y)\n",
        "\n",
        "  def __getitem__(self, idx):\n",
        "    return self.X[idx], self.y[idx]\n",
        "\n",
        "train_ds = FashionSet(df_train)\n",
        "test_ds = FashionSet(df_test)\n",
        "\n",
        "train_loader = DataLoader(train_ds, batch_size=128, shuffle=True)\n",
        "test_loader = DataLoader(test_ds, batch_size=128, shuffle=False)"
      ],
      "metadata": {
        "id": "UfLgn7hmaT3M"
      },
      "execution_count": null,
      "outputs": []
    },
    {
      "cell_type": "code",
      "source": [
        "class_names = {0: \"T-shirt/top\", 1: \"Trouser\", 2: \"Pullover\",3: \"Dress\",4: \"Coat\",5: \"Sandal\",6: \"Shirt\",7: \"Sneaker\",8: \"Bag\",9: \"Ankle boot\"}"
      ],
      "metadata": {
        "id": "XgoUUmE8--tj"
      },
      "execution_count": null,
      "outputs": []
    },
    {
      "cell_type": "markdown",
      "source": [
        "###1.3 Wizualizacja obrazów"
      ],
      "metadata": {
        "id": "dZHEnTx-oRnR"
      }
    },
    {
      "cell_type": "code",
      "source": [
        "torch.manual_seed(42)\n",
        "\n",
        "fig = plt.figure(figsize=(9,9))\n",
        "rows, cols = 4, 4\n",
        "for i in range(1, rows*cols+1):\n",
        "  random_idx = torch.randint(0, len(train_ds), size=[1]).item()\n",
        "  img, label = train_ds[random_idx]\n",
        "  fig.add_subplot(rows, cols, i)\n",
        "  plt.imshow(img.squeeze(), cmap=\"gray\")\n",
        "  plt.title(class_names[int(label)])\n",
        "  plt.axis(False)\n",
        "plt.suptitle(\"Wizualizacja losowych obrazów z FashionMNIST dataset\");"
      ],
      "metadata": {
        "colab": {
          "base_uri": "https://localhost:8080/",
          "height": 819
        },
        "id": "IbW0dipP8BY7",
        "outputId": "bb5d8f80-d5ca-466b-cb72-ecd789874fdb"
      },
      "execution_count": null,
      "outputs": [
        {
          "output_type": "display_data",
          "data": {
            "text/plain": [
              "<Figure size 900x900 with 16 Axes>"
            ],
            "image/png": "[encoded data removed]"
          },
          "metadata": {}
        }
      ]
    },
    {
      "cell_type": "markdown",
      "source": [
        "## 2. Model"
      ],
      "metadata": {
        "id": "WsUM0MvTobxb"
      }
    },
    {
      "cell_type": "markdown",
      "source": [
        "###2.1 Tworzenie modelu"
      ],
      "metadata": {
        "id": "8zQzvyv6o5hN"
      }
    },
    {
      "cell_type": "code",
      "source": [
        "class FashionCNN(nn.Module):\n",
        "  def __init__(self):\n",
        "    super().__init__()\n",
        "    self.cnn = nn.Sequential(\n",
        "        nn.Conv2d(1, 32, 3, padding=1), #1 kanał (skala szarości) -> 32 mapy cech, kernel 3x3, padding=1, 28x28 -> 28x28\n",
        "        nn.ReLU(), # max(0, x) - wprowadzenie nieliniowości\n",
        "        nn.MaxPool2d(2), #max z każdego bloku 2x2: 28x28 -> 14x14\n",
        "        nn.Conv2d(32, 64, 3, padding=1), #32 -> 64 kanały, kernel 3x3, padding=1, 14x14 -> 14x14\n",
        "        nn.ReLU(), # max(0, x)\n",
        "        nn.MaxPool2d(2), #14x14 -> 7x7\n",
        "        nn.Flatten(), # 64 kanały * 7 * 7 pikseli -> wektor 3136 liczb\n",
        "        nn.Linear(64*7*7, 128), # 3136 -> 128\n",
        "        nn.ReLU(),\n",
        "        nn.Dropout(p=0.3), #losowe zerowanie neuronów, spowolnienie overfittingu\n",
        "        nn.Linear(128, 10) # 128 -> 10 klas\n",
        "    )\n",
        "\n",
        "  def forward(self, x):\n",
        "    return self.cnn(x)\n",
        "\n",
        "net = FashionCNN().to(device)\n",
        "print(net)"
      ],
      "metadata": {
        "colab": {
          "base_uri": "https://localhost:8080/"
        },
        "id": "sJV3EspFx_sM",
        "outputId": "4cabf529-aa73-4306-9ed4-284d811fc5e4"
      },
      "execution_count": null,
      "outputs": [
        {
          "output_type": "stream",
          "name": "stdout",
          "text": [
            "FashionCNN(\n",
            "  (cnn): Sequential(\n",
            "    (0): Conv2d(1, 32, kernel_size=(3, 3), stride=(1, 1), padding=(1, 1))\n",
            "    (1): ReLU()\n",
            "    (2): MaxPool2d(kernel_size=2, stride=2, padding=0, dilation=1, ceil_mode=False)\n",
            "    (3): Conv2d(32, 64, kernel_size=(3, 3), stride=(1, 1), padding=(1, 1))\n",
            "    (4): ReLU()\n",
            "    (5): MaxPool2d(kernel_size=2, stride=2, padding=0, dilation=1, ceil_mode=False)\n",
            "    (6): Flatten(start_dim=1, end_dim=-1)\n",
            "    (7): Linear(in_features=3136, out_features=128, bias=True)\n",
            "    (8): ReLU()\n",
            "    (9): Dropout(p=0.3, inplace=False)\n",
            "    (10): Linear(in_features=128, out_features=10, bias=True)\n",
            "  )\n",
            ")\n"
          ]
        }
      ]
    },
    {
      "cell_type": "markdown",
      "source": [
        "###2.2 Wizualizacja modelu\n",
        "\n",
        "Do wizualizacji modelu korzystamy z funkcji `draw_graph()` z modułu `torchview` z GitHub: https://github.com/mert-kurttutan/torchview"
      ],
      "metadata": {
        "id": "AfyOhHpWo9Wf"
      }
    },
    {
      "cell_type": "code",
      "source": [
        "!pip install torchview\n",
        "import torchvision\n",
        "from torchview import draw_graph"
      ],
      "metadata": {
        "colab": {
          "base_uri": "https://localhost:8080/"
        },
        "id": "_QxOMYmOIsR3",
        "outputId": "a5451d57-e0d6-40f7-d23e-373809739c32"
      },
      "execution_count": null,
      "outputs": [
        {
          "output_type": "stream",
          "name": "stdout",
          "text": [
            "Collecting torchview\n",
            "  Downloading torchview-0.2.7-py3-none-any.whl.metadata (13 kB)\n",
            "Requirement already satisfied: graphviz in /usr/local/lib/python3.11/dist-packages (from torchview) (0.20.3)\n",
            "Downloading torchview-0.2.7-py3-none-any.whl (26 kB)\n",
            "Installing collected packages: torchview\n",
            "Successfully installed torchview-0.2.7\n"
          ]
        }
      ]
    },
    {
      "cell_type": "code",
      "source": [
        "model_graph = draw_graph(net, input_size=(1, 1, 28, 28), expand_nested=True)\n",
        "model_graph.visual_graph"
      ],
      "metadata": {
        "colab": {
          "base_uri": "https://localhost:8080/",
          "height": 1000
        },
        "id": "ENux1gBfMfpp",
        "outputId": "a509eaa8-69ca-4838-f2ee-ca144cfcfa56"
      },
      "execution_count": null,
      "outputs": [
        {
          "output_type": "execute_result",
          "data": {
            "image/svg+xml": "<?xml version=\"1.0\" encoding=\"UTF-8\" standalone=\"no\"?>\n<!DOCTYPE svg PUBLIC \"-//W3C//DTD SVG 1.1//EN\"\n \"http://www.w3.org/Graphics/SVG/1.1/DTD/svg11.dtd\">\n<!-- Generated by graphviz version 2.43.0 (0)\n -->\n<!-- Title: model Pages: 1 -->\n<svg width=\"237pt\" height=\"864pt\"\n viewBox=\"0.00 0.00 237.31 864.00\" xmlns=\"http://www.w3.org/2000/svg\" xmlns:xlink=\"http://www.w3.org/1999/xlink\">\n<g id=\"graph0\" class=\"graph\" transform=\"scale(0.88 0.88) rotate(0) translate(4 979)\">\n<title>model</title>\n<polygon fill=\"white\" stroke=\"transparent\" points=\"-4,4 -4,-979 266,-979 266,4 -4,4\"/>\n<g id=\"clust1\" class=\"cluster\">\n<title>cluster_2</title>\n<polygon fill=\"none\" stroke=\"black\" stroke-dasharray=\"5,2\" points=\"8,-8 8,-935 254,-935 254,-8 8,-8\"/>\n<text text-anchor=\"middle\" x=\"41\" y=\"-921.4\" font-family=\"Times,serif\" font-size=\"12.00\">Sequential</text>\n</g>\n<!-- 0 -->\n<g id=\"node1\" class=\"node\">\n<title>0</title>\n<polygon fill=\"lightyellow\" stroke=\"transparent\" points=\"220,-975 42,-975 42,-943 220,-943 220,-975\"/>\n<polygon fill=\"none\" stroke=\"black\" points=\"42,-943 42,-975 125,-975 125,-943 42,-943\"/>\n<text text-anchor=\"start\" x=\"47\" y=\"-962\" font-family=\"Linux libertine\" font-size=\"10.00\">input&#45;tensor</text>\n<text text-anchor=\"start\" x=\"62\" y=\"-951\" font-family=\"Linux libertine\" font-size=\"10.00\">depth:0</text>\n<polygon fill=\"none\" stroke=\"black\" points=\"125,-943 125,-975 220,-975 220,-943 125,-943\"/>\n<text text-anchor=\"start\" x=\"130\" y=\"-956.5\" font-family=\"Linux libertine\" font-size=\"10.00\">(1, 1, 28, 28)</text>\n</g>\n<!-- 1 -->\n<g id=\"node2\" class=\"node\">\n<title>1</title>\n<polygon fill=\"#c1ffc1\" stroke=\"transparent\" points=\"240.5,-906 21.5,-906 21.5,-864 240.5,-864 240.5,-906\"/>\n<polygon fill=\"none\" stroke=\"black\" points=\"22,-864 22,-906 75,-906 75,-864 22,-864\"/>\n<text text-anchor=\"start\" x=\"30\" y=\"-888\" font-family=\"Linux libertine\" font-size=\"10.00\">Conv2d</text>\n<text text-anchor=\"start\" x=\"27\" y=\"-877\" font-family=\"Linux libertine\" font-size=\"10.00\">depth:2</text>\n<polygon fill=\"none\" stroke=\"black\" points=\"75,-885 75,-906 134,-906 134,-885 75,-885\"/>\n<text text-anchor=\"start\" x=\"86\" y=\"-893\" font-family=\"Linux libertine\" font-size=\"10.00\">input:</text>\n<polygon fill=\"none\" stroke=\"black\" points=\"134,-885 134,-906 241,-906 241,-885 134,-885\"/>\n<text text-anchor=\"start\" x=\"142\" y=\"-893\" font-family=\"Linux libertine\" font-size=\"10.00\">(1, 1, 28, 28) </text>\n<polygon fill=\"none\" stroke=\"black\" points=\"75,-864 75,-885 134,-885 134,-864 75,-864\"/>\n<text text-anchor=\"start\" x=\"80\" y=\"-872\" font-family=\"Linux libertine\" font-size=\"10.00\">output: </text>\n<polygon fill=\"none\" stroke=\"black\" points=\"134,-864 134,-885 241,-885 241,-864 134,-864\"/>\n<text text-anchor=\"start\" x=\"139\" y=\"-872\" font-family=\"Linux libertine\" font-size=\"10.00\">(1, 32, 28, 28) </text>\n</g>\n<!-- 0&#45;&gt;1 -->\n<g id=\"edge1\" class=\"edge\">\n<title>0&#45;&gt;1</title>\n<path fill=\"none\" stroke=\"black\" d=\"M131,-942.73C131,-935.08 131,-925.52 131,-916.45\"/>\n<polygon fill=\"black\" stroke=\"black\" points=\"134.5,-916.17 131,-906.17 127.5,-916.17 134.5,-916.17\"/>\n</g>\n<!-- 2 -->\n<g id=\"node3\" class=\"node\">\n<title>2</title>\n<polygon fill=\"#c1ffc1\" stroke=\"transparent\" points=\"240.5,-828 21.5,-828 21.5,-786 240.5,-786 240.5,-828\"/>\n<polygon fill=\"none\" stroke=\"black\" points=\"22,-786 22,-828 75,-828 75,-786 22,-786\"/>\n<text text-anchor=\"start\" x=\"36\" y=\"-810\" font-family=\"Linux libertine\" font-size=\"10.00\">ReLU</text>\n<text text-anchor=\"start\" x=\"27\" y=\"-799\" font-family=\"Linux libertine\" font-size=\"10.00\">depth:2</text>\n<polygon fill=\"none\" stroke=\"black\" points=\"75,-807 75,-828 134,-828 134,-807 75,-807\"/>\n<text text-anchor=\"start\" x=\"86\" y=\"-815\" font-family=\"Linux libertine\" font-size=\"10.00\">input:</text>\n<polygon fill=\"none\" stroke=\"black\" points=\"134,-807 134,-828 241,-828 241,-807 134,-807\"/>\n<text text-anchor=\"start\" x=\"139\" y=\"-815\" font-family=\"Linux libertine\" font-size=\"10.00\">(1, 32, 28, 28) </text>\n<polygon fill=\"none\" stroke=\"black\" points=\"75,-786 75,-807 134,-807 134,-786 75,-786\"/>\n<text text-anchor=\"start\" x=\"80\" y=\"-794\" font-family=\"Linux libertine\" font-size=\"10.00\">output: </text>\n<polygon fill=\"none\" stroke=\"black\" points=\"134,-786 134,-807 241,-807 241,-786 134,-786\"/>\n<text text-anchor=\"start\" x=\"139\" y=\"-794\" font-family=\"Linux libertine\" font-size=\"10.00\">(1, 32, 28, 28) </text>\n</g>\n<!-- 1&#45;&gt;2 -->\n<g id=\"edge2\" class=\"edge\">\n<title>1&#45;&gt;2</title>\n<path fill=\"none\" stroke=\"black\" d=\"M131,-863.63C131,-855.82 131,-846.73 131,-838.18\"/>\n<polygon fill=\"black\" stroke=\"black\" points=\"134.5,-838.16 131,-828.16 127.5,-838.16 134.5,-838.16\"/>\n</g>\n<!-- 3 -->\n<g id=\"node4\" class=\"node\">\n<title>3</title>\n<polygon fill=\"#c1ffc1\" stroke=\"transparent\" points=\"246.5,-750 15.5,-750 15.5,-708 246.5,-708 246.5,-750\"/>\n<polygon fill=\"none\" stroke=\"black\" points=\"16,-708 16,-750 81,-750 81,-708 16,-708\"/>\n<text text-anchor=\"start\" x=\"21\" y=\"-732\" font-family=\"Linux libertine\" font-size=\"10.00\">MaxPool2d</text>\n<text text-anchor=\"start\" x=\"27\" y=\"-721\" font-family=\"Linux libertine\" font-size=\"10.00\">depth:2</text>\n<polygon fill=\"none\" stroke=\"black\" points=\"81,-729 81,-750 140,-750 140,-729 81,-729\"/>\n<text text-anchor=\"start\" x=\"92\" y=\"-737\" font-family=\"Linux libertine\" font-size=\"10.00\">input:</text>\n<polygon fill=\"none\" stroke=\"black\" points=\"140,-729 140,-750 247,-750 247,-729 140,-729\"/>\n<text text-anchor=\"start\" x=\"145\" y=\"-737\" font-family=\"Linux libertine\" font-size=\"10.00\">(1, 32, 28, 28) </text>\n<polygon fill=\"none\" stroke=\"black\" points=\"81,-708 81,-729 140,-729 140,-708 81,-708\"/>\n<text text-anchor=\"start\" x=\"86\" y=\"-716\" font-family=\"Linux libertine\" font-size=\"10.00\">output: </text>\n<polygon fill=\"none\" stroke=\"black\" points=\"140,-708 140,-729 247,-729 247,-708 140,-708\"/>\n<text text-anchor=\"start\" x=\"145\" y=\"-716\" font-family=\"Linux libertine\" font-size=\"10.00\">(1, 32, 14, 14) </text>\n</g>\n<!-- 2&#45;&gt;3 -->\n<g id=\"edge3\" class=\"edge\">\n<title>2&#45;&gt;3</title>\n<path fill=\"none\" stroke=\"black\" d=\"M131,-785.63C131,-777.82 131,-768.73 131,-760.18\"/>\n<polygon fill=\"black\" stroke=\"black\" points=\"134.5,-760.16 131,-750.16 127.5,-760.16 134.5,-760.16\"/>\n</g>\n<!-- 4 -->\n<g id=\"node5\" class=\"node\">\n<title>4</title>\n<polygon fill=\"#c1ffc1\" stroke=\"transparent\" points=\"240.5,-672 21.5,-672 21.5,-630 240.5,-630 240.5,-672\"/>\n<polygon fill=\"none\" stroke=\"black\" points=\"22,-630 22,-672 75,-672 75,-630 22,-630\"/>\n<text text-anchor=\"start\" x=\"30\" y=\"-654\" font-family=\"Linux libertine\" font-size=\"10.00\">Conv2d</text>\n<text text-anchor=\"start\" x=\"27\" y=\"-643\" font-family=\"Linux libertine\" font-size=\"10.00\">depth:2</text>\n<polygon fill=\"none\" stroke=\"black\" points=\"75,-651 75,-672 134,-672 134,-651 75,-651\"/>\n<text text-anchor=\"start\" x=\"86\" y=\"-659\" font-family=\"Linux libertine\" font-size=\"10.00\">input:</text>\n<polygon fill=\"none\" stroke=\"black\" points=\"134,-651 134,-672 241,-672 241,-651 134,-651\"/>\n<text text-anchor=\"start\" x=\"139\" y=\"-659\" font-family=\"Linux libertine\" font-size=\"10.00\">(1, 32, 14, 14) </text>\n<polygon fill=\"none\" stroke=\"black\" points=\"75,-630 75,-651 134,-651 134,-630 75,-630\"/>\n<text text-anchor=\"start\" x=\"80\" y=\"-638\" font-family=\"Linux libertine\" font-size=\"10.00\">output: </text>\n<polygon fill=\"none\" stroke=\"black\" points=\"134,-630 134,-651 241,-651 241,-630 134,-630\"/>\n<text text-anchor=\"start\" x=\"139\" y=\"-638\" font-family=\"Linux libertine\" font-size=\"10.00\">(1, 64, 14, 14) </text>\n</g>\n<!-- 3&#45;&gt;4 -->\n<g id=\"edge4\" class=\"edge\">\n<title>3&#45;&gt;4</title>\n<path fill=\"none\" stroke=\"black\" d=\"M131,-707.63C131,-699.82 131,-690.73 131,-682.18\"/>\n<polygon fill=\"black\" stroke=\"black\" points=\"134.5,-682.16 131,-672.16 127.5,-682.16 134.5,-682.16\"/>\n</g>\n<!-- 5 -->\n<g id=\"node6\" class=\"node\">\n<title>5</title>\n<polygon fill=\"#c1ffc1\" stroke=\"transparent\" points=\"240.5,-594 21.5,-594 21.5,-552 240.5,-552 240.5,-594\"/>\n<polygon fill=\"none\" stroke=\"black\" points=\"22,-552 22,-594 75,-594 75,-552 22,-552\"/>\n<text text-anchor=\"start\" x=\"36\" y=\"-576\" font-family=\"Linux libertine\" font-size=\"10.00\">ReLU</text>\n<text text-anchor=\"start\" x=\"27\" y=\"-565\" font-family=\"Linux libertine\" font-size=\"10.00\">depth:2</text>\n<polygon fill=\"none\" stroke=\"black\" points=\"75,-573 75,-594 134,-594 134,-573 75,-573\"/>\n<text text-anchor=\"start\" x=\"86\" y=\"-581\" font-family=\"Linux libertine\" font-size=\"10.00\">input:</text>\n<polygon fill=\"none\" stroke=\"black\" points=\"134,-573 134,-594 241,-594 241,-573 134,-573\"/>\n<text text-anchor=\"start\" x=\"139\" y=\"-581\" font-family=\"Linux libertine\" font-size=\"10.00\">(1, 64, 14, 14) </text>\n<polygon fill=\"none\" stroke=\"black\" points=\"75,-552 75,-573 134,-573 134,-552 75,-552\"/>\n<text text-anchor=\"start\" x=\"80\" y=\"-560\" font-family=\"Linux libertine\" font-size=\"10.00\">output: </text>\n<polygon fill=\"none\" stroke=\"black\" points=\"134,-552 134,-573 241,-573 241,-552 134,-552\"/>\n<text text-anchor=\"start\" x=\"139\" y=\"-560\" font-family=\"Linux libertine\" font-size=\"10.00\">(1, 64, 14, 14) </text>\n</g>\n<!-- 4&#45;&gt;5 -->\n<g id=\"edge5\" class=\"edge\">\n<title>4&#45;&gt;5</title>\n<path fill=\"none\" stroke=\"black\" d=\"M131,-629.63C131,-621.82 131,-612.73 131,-604.18\"/>\n<polygon fill=\"black\" stroke=\"black\" points=\"134.5,-604.16 131,-594.16 127.5,-604.16 134.5,-604.16\"/>\n</g>\n<!-- 6 -->\n<g id=\"node7\" class=\"node\">\n<title>6</title>\n<polygon fill=\"#c1ffc1\" stroke=\"transparent\" points=\"246.5,-516 15.5,-516 15.5,-474 246.5,-474 246.5,-516\"/>\n<polygon fill=\"none\" stroke=\"black\" points=\"16,-474 16,-516 81,-516 81,-474 16,-474\"/>\n<text text-anchor=\"start\" x=\"21\" y=\"-498\" font-family=\"Linux libertine\" font-size=\"10.00\">MaxPool2d</text>\n<text text-anchor=\"start\" x=\"27\" y=\"-487\" font-family=\"Linux libertine\" font-size=\"10.00\">depth:2</text>\n<polygon fill=\"none\" stroke=\"black\" points=\"81,-495 81,-516 140,-516 140,-495 81,-495\"/>\n<text text-anchor=\"start\" x=\"92\" y=\"-503\" font-family=\"Linux libertine\" font-size=\"10.00\">input:</text>\n<polygon fill=\"none\" stroke=\"black\" points=\"140,-495 140,-516 247,-516 247,-495 140,-495\"/>\n<text text-anchor=\"start\" x=\"145\" y=\"-503\" font-family=\"Linux libertine\" font-size=\"10.00\">(1, 64, 14, 14) </text>\n<polygon fill=\"none\" stroke=\"black\" points=\"81,-474 81,-495 140,-495 140,-474 81,-474\"/>\n<text text-anchor=\"start\" x=\"86\" y=\"-482\" font-family=\"Linux libertine\" font-size=\"10.00\">output: </text>\n<polygon fill=\"none\" stroke=\"black\" points=\"140,-474 140,-495 247,-495 247,-474 140,-474\"/>\n<text text-anchor=\"start\" x=\"151\" y=\"-482\" font-family=\"Linux libertine\" font-size=\"10.00\">(1, 64, 7, 7) </text>\n</g>\n<!-- 5&#45;&gt;6 -->\n<g id=\"edge6\" class=\"edge\">\n<title>5&#45;&gt;6</title>\n<path fill=\"none\" stroke=\"black\" d=\"M131,-551.63C131,-543.82 131,-534.73 131,-526.18\"/>\n<polygon fill=\"black\" stroke=\"black\" points=\"134.5,-526.16 131,-516.16 127.5,-526.16 134.5,-526.16\"/>\n</g>\n<!-- 7 -->\n<g id=\"node8\" class=\"node\">\n<title>7</title>\n<polygon fill=\"#c1ffc1\" stroke=\"transparent\" points=\"234.5,-438 27.5,-438 27.5,-396 234.5,-396 234.5,-438\"/>\n<polygon fill=\"none\" stroke=\"black\" points=\"28,-396 28,-438 81,-438 81,-396 28,-396\"/>\n<text text-anchor=\"start\" x=\"33\" y=\"-420\" font-family=\"Linux libertine\" font-size=\"10.00\">Flatten</text>\n<text text-anchor=\"start\" x=\"33\" y=\"-409\" font-family=\"Linux libertine\" font-size=\"10.00\">depth:2</text>\n<polygon fill=\"none\" stroke=\"black\" points=\"81,-417 81,-438 140,-438 140,-417 81,-417\"/>\n<text text-anchor=\"start\" x=\"92\" y=\"-425\" font-family=\"Linux libertine\" font-size=\"10.00\">input:</text>\n<polygon fill=\"none\" stroke=\"black\" points=\"140,-417 140,-438 235,-438 235,-417 140,-417\"/>\n<text text-anchor=\"start\" x=\"145\" y=\"-425\" font-family=\"Linux libertine\" font-size=\"10.00\">(1, 64, 7, 7) </text>\n<polygon fill=\"none\" stroke=\"black\" points=\"81,-396 81,-417 140,-417 140,-396 81,-396\"/>\n<text text-anchor=\"start\" x=\"86\" y=\"-404\" font-family=\"Linux libertine\" font-size=\"10.00\">output: </text>\n<polygon fill=\"none\" stroke=\"black\" points=\"140,-396 140,-417 235,-417 235,-396 140,-396\"/>\n<text text-anchor=\"start\" x=\"157\" y=\"-404\" font-family=\"Linux libertine\" font-size=\"10.00\">(1, 3136) </text>\n</g>\n<!-- 6&#45;&gt;7 -->\n<g id=\"edge7\" class=\"edge\">\n<title>6&#45;&gt;7</title>\n<path fill=\"none\" stroke=\"black\" d=\"M131,-473.63C131,-465.82 131,-456.73 131,-448.18\"/>\n<polygon fill=\"black\" stroke=\"black\" points=\"134.5,-448.16 131,-438.16 127.5,-448.16 134.5,-448.16\"/>\n</g>\n<!-- 8 -->\n<g id=\"node9\" class=\"node\">\n<title>8</title>\n<polygon fill=\"#c1ffc1\" stroke=\"transparent\" points=\"222.5,-360 39.5,-360 39.5,-318 222.5,-318 222.5,-360\"/>\n<polygon fill=\"none\" stroke=\"black\" points=\"40,-318 40,-360 93,-360 93,-318 40,-318\"/>\n<text text-anchor=\"start\" x=\"48\" y=\"-342\" font-family=\"Linux libertine\" font-size=\"10.00\">Linear</text>\n<text text-anchor=\"start\" x=\"45\" y=\"-331\" font-family=\"Linux libertine\" font-size=\"10.00\">depth:2</text>\n<polygon fill=\"none\" stroke=\"black\" points=\"93,-339 93,-360 152,-360 152,-339 93,-339\"/>\n<text text-anchor=\"start\" x=\"104\" y=\"-347\" font-family=\"Linux libertine\" font-size=\"10.00\">input:</text>\n<polygon fill=\"none\" stroke=\"black\" points=\"152,-339 152,-360 223,-360 223,-339 152,-339\"/>\n<text text-anchor=\"start\" x=\"157\" y=\"-347\" font-family=\"Linux libertine\" font-size=\"10.00\">(1, 3136) </text>\n<polygon fill=\"none\" stroke=\"black\" points=\"93,-318 93,-339 152,-339 152,-318 93,-318\"/>\n<text text-anchor=\"start\" x=\"98\" y=\"-326\" font-family=\"Linux libertine\" font-size=\"10.00\">output: </text>\n<polygon fill=\"none\" stroke=\"black\" points=\"152,-318 152,-339 223,-339 223,-318 152,-318\"/>\n<text text-anchor=\"start\" x=\"160\" y=\"-326\" font-family=\"Linux libertine\" font-size=\"10.00\">(1, 128) </text>\n</g>\n<!-- 7&#45;&gt;8 -->\n<g id=\"edge8\" class=\"edge\">\n<title>7&#45;&gt;8</title>\n<path fill=\"none\" stroke=\"black\" d=\"M131,-395.63C131,-387.82 131,-378.73 131,-370.18\"/>\n<polygon fill=\"black\" stroke=\"black\" points=\"134.5,-370.16 131,-360.16 127.5,-370.16 134.5,-370.16\"/>\n</g>\n<!-- 9 -->\n<g id=\"node10\" class=\"node\">\n<title>9</title>\n<polygon fill=\"#c1ffc1\" stroke=\"transparent\" points=\"219.5,-282 42.5,-282 42.5,-240 219.5,-240 219.5,-282\"/>\n<polygon fill=\"none\" stroke=\"black\" points=\"43,-240 43,-282 96,-282 96,-240 43,-240\"/>\n<text text-anchor=\"start\" x=\"57\" y=\"-264\" font-family=\"Linux libertine\" font-size=\"10.00\">ReLU</text>\n<text text-anchor=\"start\" x=\"48\" y=\"-253\" font-family=\"Linux libertine\" font-size=\"10.00\">depth:2</text>\n<polygon fill=\"none\" stroke=\"black\" points=\"96,-261 96,-282 155,-282 155,-261 96,-261\"/>\n<text text-anchor=\"start\" x=\"107\" y=\"-269\" font-family=\"Linux libertine\" font-size=\"10.00\">input:</text>\n<polygon fill=\"none\" stroke=\"black\" points=\"155,-261 155,-282 220,-282 220,-261 155,-261\"/>\n<text text-anchor=\"start\" x=\"160\" y=\"-269\" font-family=\"Linux libertine\" font-size=\"10.00\">(1, 128) </text>\n<polygon fill=\"none\" stroke=\"black\" points=\"96,-240 96,-261 155,-261 155,-240 96,-240\"/>\n<text text-anchor=\"start\" x=\"101\" y=\"-248\" font-family=\"Linux libertine\" font-size=\"10.00\">output: </text>\n<polygon fill=\"none\" stroke=\"black\" points=\"155,-240 155,-261 220,-261 220,-240 155,-240\"/>\n<text text-anchor=\"start\" x=\"160\" y=\"-248\" font-family=\"Linux libertine\" font-size=\"10.00\">(1, 128) </text>\n</g>\n<!-- 8&#45;&gt;9 -->\n<g id=\"edge9\" class=\"edge\">\n<title>8&#45;&gt;9</title>\n<path fill=\"none\" stroke=\"black\" d=\"M131,-317.63C131,-309.82 131,-300.73 131,-292.18\"/>\n<polygon fill=\"black\" stroke=\"black\" points=\"134.5,-292.16 131,-282.16 127.5,-292.16 134.5,-292.16\"/>\n</g>\n<!-- 10 -->\n<g id=\"node11\" class=\"node\">\n<title>10</title>\n<polygon fill=\"#c1ffc1\" stroke=\"transparent\" points=\"219.5,-204 42.5,-204 42.5,-162 219.5,-162 219.5,-204\"/>\n<polygon fill=\"none\" stroke=\"black\" points=\"43,-162 43,-204 96,-204 96,-162 43,-162\"/>\n<text text-anchor=\"start\" x=\"48\" y=\"-186\" font-family=\"Linux libertine\" font-size=\"10.00\">Dropout</text>\n<text text-anchor=\"start\" x=\"48\" y=\"-175\" font-family=\"Linux libertine\" font-size=\"10.00\">depth:2</text>\n<polygon fill=\"none\" stroke=\"black\" points=\"96,-183 96,-204 155,-204 155,-183 96,-183\"/>\n<text text-anchor=\"start\" x=\"107\" y=\"-191\" font-family=\"Linux libertine\" font-size=\"10.00\">input:</text>\n<polygon fill=\"none\" stroke=\"black\" points=\"155,-183 155,-204 220,-204 220,-183 155,-183\"/>\n<text text-anchor=\"start\" x=\"160\" y=\"-191\" font-family=\"Linux libertine\" font-size=\"10.00\">(1, 128) </text>\n<polygon fill=\"none\" stroke=\"black\" points=\"96,-162 96,-183 155,-183 155,-162 96,-162\"/>\n<text text-anchor=\"start\" x=\"101\" y=\"-170\" font-family=\"Linux libertine\" font-size=\"10.00\">output: </text>\n<polygon fill=\"none\" stroke=\"black\" points=\"155,-162 155,-183 220,-183 220,-162 155,-162\"/>\n<text text-anchor=\"start\" x=\"160\" y=\"-170\" font-family=\"Linux libertine\" font-size=\"10.00\">(1, 128) </text>\n</g>\n<!-- 9&#45;&gt;10 -->\n<g id=\"edge10\" class=\"edge\">\n<title>9&#45;&gt;10</title>\n<path fill=\"none\" stroke=\"black\" d=\"M131,-239.63C131,-231.82 131,-222.73 131,-214.18\"/>\n<polygon fill=\"black\" stroke=\"black\" points=\"134.5,-214.16 131,-204.16 127.5,-214.16 134.5,-214.16\"/>\n</g>\n<!-- 11 -->\n<g id=\"node12\" class=\"node\">\n<title>11</title>\n<polygon fill=\"#c1ffc1\" stroke=\"transparent\" points=\"219.5,-126 42.5,-126 42.5,-84 219.5,-84 219.5,-126\"/>\n<polygon fill=\"none\" stroke=\"black\" points=\"43,-84 43,-126 96,-126 96,-84 43,-84\"/>\n<text text-anchor=\"start\" x=\"51\" y=\"-108\" font-family=\"Linux libertine\" font-size=\"10.00\">Linear</text>\n<text text-anchor=\"start\" x=\"48\" y=\"-97\" font-family=\"Linux libertine\" font-size=\"10.00\">depth:2</text>\n<polygon fill=\"none\" stroke=\"black\" points=\"96,-105 96,-126 155,-126 155,-105 96,-105\"/>\n<text text-anchor=\"start\" x=\"107\" y=\"-113\" font-family=\"Linux libertine\" font-size=\"10.00\">input:</text>\n<polygon fill=\"none\" stroke=\"black\" points=\"155,-105 155,-126 220,-126 220,-105 155,-105\"/>\n<text text-anchor=\"start\" x=\"160\" y=\"-113\" font-family=\"Linux libertine\" font-size=\"10.00\">(1, 128) </text>\n<polygon fill=\"none\" stroke=\"black\" points=\"96,-84 96,-105 155,-105 155,-84 96,-84\"/>\n<text text-anchor=\"start\" x=\"101\" y=\"-92\" font-family=\"Linux libertine\" font-size=\"10.00\">output: </text>\n<polygon fill=\"none\" stroke=\"black\" points=\"155,-84 155,-105 220,-105 220,-84 155,-84\"/>\n<text text-anchor=\"start\" x=\"163\" y=\"-92\" font-family=\"Linux libertine\" font-size=\"10.00\">(1, 10) </text>\n</g>\n<!-- 10&#45;&gt;11 -->\n<g id=\"edge11\" class=\"edge\">\n<title>10&#45;&gt;11</title>\n<path fill=\"none\" stroke=\"black\" d=\"M131,-161.63C131,-153.82 131,-144.73 131,-136.18\"/>\n<polygon fill=\"black\" stroke=\"black\" points=\"134.5,-136.16 131,-126.16 127.5,-136.16 134.5,-136.16\"/>\n</g>\n<!-- 12 -->\n<g id=\"node13\" class=\"node\">\n<title>12</title>\n<polygon fill=\"lightyellow\" stroke=\"transparent\" points=\"202,-48 60,-48 60,-16 202,-16 202,-48\"/>\n<polygon fill=\"none\" stroke=\"black\" points=\"60,-16 60,-48 149,-48 149,-16 60,-16\"/>\n<text text-anchor=\"start\" x=\"65\" y=\"-35\" font-family=\"Linux libertine\" font-size=\"10.00\">output&#45;tensor</text>\n<text text-anchor=\"start\" x=\"83\" y=\"-24\" font-family=\"Linux libertine\" font-size=\"10.00\">depth:0</text>\n<polygon fill=\"none\" stroke=\"black\" points=\"149,-16 149,-48 202,-48 202,-16 149,-16\"/>\n<text text-anchor=\"start\" x=\"154\" y=\"-29.5\" font-family=\"Linux libertine\" font-size=\"10.00\">(1, 10)</text>\n</g>\n<!-- 11&#45;&gt;12 -->\n<g id=\"edge12\" class=\"edge\">\n<title>11&#45;&gt;12</title>\n<path fill=\"none\" stroke=\"black\" d=\"M131,-83.84C131,-75.89 131,-66.66 131,-58.26\"/>\n<polygon fill=\"black\" stroke=\"black\" points=\"134.5,-58.24 131,-48.24 127.5,-58.24 134.5,-58.24\"/>\n</g>\n</g>\n</svg>\n",
            "text/plain": [
              "<graphviz.graphs.Digraph at 0x7e487cc06910>"
            ]
          },
          "metadata": {},
          "execution_count": 14
        }
      ]
    },
    {
      "cell_type": "markdown",
      "source": [
        "##3. Training loop\n",
        "\n",
        "Funkcja straty: `nn.CrossEntropyLoss()`\n",
        "\n",
        "Optimalizator: `optim.Adam()`"
      ],
      "metadata": {
        "id": "bUFaRZuMof7a"
      }
    },
    {
      "cell_type": "code",
      "source": [
        "from torch import optim\n",
        "\n",
        "criterion = nn.CrossEntropyLoss() #funkcja straty\n",
        "opt = optim.Adam(net.parameters(), lr=0.0001) #optymalizator\n",
        "\n",
        "def epoch_pass(model, loader, train: bool = True):\n",
        "  if train:\n",
        "    model.train()\n",
        "  else:\n",
        "    model.eval()\n",
        "  total_loss, correct, n = 0.0, 0.0, 0\n",
        "\n",
        "  with torch.set_grad_enabled(train):\n",
        "    for X, y in loader:\n",
        "      X, y = X.to(device), y.to(device)\n",
        "\n",
        "      if train:\n",
        "        opt.zero_grad()\n",
        "\n",
        "      out = model(X)\n",
        "      loss = criterion(out, y)\n",
        "\n",
        "      if train:\n",
        "        loss.backward()\n",
        "        opt.step()\n",
        "\n",
        "      total_loss += loss.item() * y.size(0)\n",
        "      correct += (out.argmax(1) == y).sum().item()\n",
        "      n += y.size(0)\n",
        "\n",
        "  return total_loss / n, correct / n"
      ],
      "metadata": {
        "id": "lkvQN-TG0gNF"
      },
      "execution_count": null,
      "outputs": []
    },
    {
      "cell_type": "code",
      "source": [
        "EPOCHS = 100\n",
        "tr_loss_res = []\n",
        "tr_acc_res=[]\n",
        "te_loss_res=[]\n",
        "te_acc_res=[]\n",
        "for ep in range(1, EPOCHS + 1):\n",
        "  tr_loss, tr_acc = epoch_pass(net, train_loader, train=True)\n",
        "  te_loss, te_acc = epoch_pass(net, test_loader, train=False)\n",
        "  tr_loss_res.append(tr_loss)\n",
        "  tr_acc_res.append(tr_acc)\n",
        "  te_loss_res.append(te_loss)\n",
        "  te_acc_res.append(te_acc)\n",
        "\n",
        "  print(f\"[{ep:02d}/{EPOCHS}] \"\n",
        "  f\"train: loss={tr_loss:.4f} acc={tr_acc*100:.2f}% | \"\n",
        "  f\"test: loss={te_loss:.4f} acc={te_acc*100:.2f}%\")"
      ],
      "metadata": {
        "colab": {
          "base_uri": "https://localhost:8080/"
        },
        "id": "_l36eRpG1bH-",
        "outputId": "fcab0dfd-7d27-4193-9707-f14c3fda4bdf"
      },
      "execution_count": null,
      "outputs": [
        {
          "output_type": "stream",
          "name": "stdout",
          "text": [
            "[01/100] train: loss=0.9835 acc=67.44% | test: loss=0.5653 acc=79.77%\n",
            "[02/100] train: loss=0.5582 acc=79.42% | test: loss=0.4698 acc=83.67%\n",
            "[03/100] train: loss=0.4845 acc=82.53% | test: loss=0.4182 acc=85.07%\n",
            "[04/100] train: loss=0.4375 acc=84.34% | test: loss=0.3824 acc=86.43%\n",
            "[05/100] train: loss=0.4054 acc=85.51% | test: loss=0.3572 acc=87.35%\n",
            "[06/100] train: loss=0.3843 acc=86.23% | test: loss=0.3422 acc=87.55%\n",
            "[07/100] train: loss=0.3663 acc=86.78% | test: loss=0.3275 acc=88.26%\n",
            "[08/100] train: loss=0.3532 acc=87.41% | test: loss=0.3168 acc=88.51%\n",
            "[09/100] train: loss=0.3402 acc=87.78% | test: loss=0.3062 acc=88.79%\n",
            "[10/100] train: loss=0.3317 acc=88.12% | test: loss=0.2987 acc=89.24%\n",
            "[11/100] train: loss=0.3229 acc=88.44% | test: loss=0.2926 acc=89.19%\n",
            "[12/100] train: loss=0.3142 acc=88.78% | test: loss=0.2896 acc=89.28%\n",
            "[13/100] train: loss=0.3079 acc=88.87% | test: loss=0.2870 acc=89.47%\n",
            "[14/100] train: loss=0.3002 acc=89.27% | test: loss=0.2758 acc=89.73%\n",
            "[15/100] train: loss=0.2942 acc=89.48% | test: loss=0.2699 acc=89.88%\n",
            "[16/100] train: loss=0.2890 acc=89.54% | test: loss=0.2704 acc=90.08%\n",
            "[17/100] train: loss=0.2823 acc=89.91% | test: loss=0.2634 acc=90.44%\n",
            "[18/100] train: loss=0.2783 acc=90.13% | test: loss=0.2587 acc=90.52%\n",
            "[19/100] train: loss=0.2755 acc=90.05% | test: loss=0.2559 acc=90.57%\n",
            "[20/100] train: loss=0.2695 acc=90.42% | test: loss=0.2541 acc=90.64%\n",
            "[21/100] train: loss=0.2655 acc=90.46% | test: loss=0.2487 acc=90.77%\n",
            "[22/100] train: loss=0.2612 acc=90.58% | test: loss=0.2489 acc=90.97%\n",
            "[23/100] train: loss=0.2583 acc=90.74% | test: loss=0.2424 acc=91.17%\n",
            "[24/100] train: loss=0.2526 acc=90.89% | test: loss=0.2435 acc=90.96%\n",
            "[25/100] train: loss=0.2499 acc=90.96% | test: loss=0.2403 acc=91.11%\n",
            "[26/100] train: loss=0.2477 acc=91.09% | test: loss=0.2390 acc=91.01%\n",
            "[27/100] train: loss=0.2430 acc=91.30% | test: loss=0.2489 acc=90.90%\n",
            "[28/100] train: loss=0.2393 acc=91.34% | test: loss=0.2347 acc=91.20%\n",
            "[29/100] train: loss=0.2385 acc=91.44% | test: loss=0.2303 acc=91.45%\n",
            "[30/100] train: loss=0.2339 acc=91.65% | test: loss=0.2305 acc=91.40%\n",
            "[31/100] train: loss=0.2311 acc=91.59% | test: loss=0.2285 acc=91.41%\n",
            "[32/100] train: loss=0.2286 acc=91.79% | test: loss=0.2276 acc=91.56%\n",
            "[33/100] train: loss=0.2266 acc=91.81% | test: loss=0.2232 acc=91.72%\n",
            "[34/100] train: loss=0.2219 acc=92.08% | test: loss=0.2238 acc=91.53%\n",
            "[35/100] train: loss=0.2201 acc=92.02% | test: loss=0.2218 acc=91.75%\n",
            "[36/100] train: loss=0.2159 acc=92.33% | test: loss=0.2196 acc=91.82%\n",
            "[37/100] train: loss=0.2136 acc=92.22% | test: loss=0.2156 acc=91.96%\n",
            "[38/100] train: loss=0.2114 acc=92.41% | test: loss=0.2184 acc=91.80%\n",
            "[39/100] train: loss=0.2089 acc=92.46% | test: loss=0.2148 acc=92.00%\n",
            "[40/100] train: loss=0.2065 acc=92.48% | test: loss=0.2131 acc=92.04%\n",
            "[41/100] train: loss=0.2034 acc=92.67% | test: loss=0.2152 acc=92.11%\n",
            "[42/100] train: loss=0.2017 acc=92.59% | test: loss=0.2149 acc=91.85%\n",
            "[43/100] train: loss=0.2001 acc=92.77% | test: loss=0.2114 acc=91.99%\n",
            "[44/100] train: loss=0.1985 acc=92.78% | test: loss=0.2121 acc=92.04%\n",
            "[45/100] train: loss=0.1951 acc=92.98% | test: loss=0.2108 acc=92.20%\n",
            "[46/100] train: loss=0.1939 acc=92.93% | test: loss=0.2066 acc=92.25%\n",
            "[47/100] train: loss=0.1925 acc=93.12% | test: loss=0.2103 acc=92.26%\n",
            "[48/100] train: loss=0.1905 acc=93.18% | test: loss=0.2136 acc=91.85%\n",
            "[49/100] train: loss=0.1870 acc=93.20% | test: loss=0.2056 acc=92.48%\n",
            "[50/100] train: loss=0.1859 acc=93.20% | test: loss=0.2054 acc=92.31%\n",
            "[51/100] train: loss=0.1851 acc=93.29% | test: loss=0.2059 acc=92.15%\n",
            "[52/100] train: loss=0.1817 acc=93.42% | test: loss=0.2005 acc=92.58%\n",
            "[53/100] train: loss=0.1802 acc=93.48% | test: loss=0.2038 acc=92.43%\n",
            "[54/100] train: loss=0.1784 acc=93.54% | test: loss=0.2018 acc=92.44%\n",
            "[55/100] train: loss=0.1758 acc=93.73% | test: loss=0.2012 acc=92.57%\n",
            "[56/100] train: loss=0.1727 acc=93.77% | test: loss=0.1996 acc=92.62%\n",
            "[57/100] train: loss=0.1723 acc=93.76% | test: loss=0.1975 acc=92.71%\n",
            "[58/100] train: loss=0.1730 acc=93.75% | test: loss=0.1982 acc=92.63%\n",
            "[59/100] train: loss=0.1683 acc=93.88% | test: loss=0.2020 acc=92.41%\n",
            "[60/100] train: loss=0.1671 acc=93.93% | test: loss=0.1976 acc=92.64%\n",
            "[61/100] train: loss=0.1643 acc=94.11% | test: loss=0.1979 acc=92.70%\n",
            "[62/100] train: loss=0.1627 acc=94.06% | test: loss=0.1994 acc=92.71%\n",
            "[63/100] train: loss=0.1598 acc=94.14% | test: loss=0.1962 acc=92.71%\n",
            "[64/100] train: loss=0.1597 acc=94.30% | test: loss=0.1995 acc=92.68%\n",
            "[65/100] train: loss=0.1575 acc=94.27% | test: loss=0.2012 acc=92.79%\n",
            "[66/100] train: loss=0.1562 acc=94.24% | test: loss=0.1979 acc=92.79%\n",
            "[67/100] train: loss=0.1558 acc=94.28% | test: loss=0.1983 acc=92.61%\n",
            "[68/100] train: loss=0.1525 acc=94.41% | test: loss=0.1979 acc=92.73%\n",
            "[69/100] train: loss=0.1498 acc=94.56% | test: loss=0.1958 acc=92.76%\n",
            "[70/100] train: loss=0.1511 acc=94.50% | test: loss=0.1940 acc=92.88%\n",
            "[71/100] train: loss=0.1482 acc=94.62% | test: loss=0.1969 acc=92.88%\n",
            "[72/100] train: loss=0.1477 acc=94.57% | test: loss=0.1950 acc=92.89%\n",
            "[73/100] train: loss=0.1454 acc=94.68% | test: loss=0.2050 acc=92.58%\n",
            "[74/100] train: loss=0.1432 acc=94.79% | test: loss=0.1947 acc=92.92%\n",
            "[75/100] train: loss=0.1427 acc=94.89% | test: loss=0.1957 acc=93.12%\n",
            "[76/100] train: loss=0.1411 acc=94.85% | test: loss=0.1947 acc=92.95%\n",
            "[77/100] train: loss=0.1379 acc=95.03% | test: loss=0.1984 acc=92.93%\n",
            "[78/100] train: loss=0.1375 acc=94.98% | test: loss=0.1976 acc=92.87%\n",
            "[79/100] train: loss=0.1353 acc=95.05% | test: loss=0.1944 acc=92.94%\n",
            "[80/100] train: loss=0.1337 acc=95.08% | test: loss=0.1981 acc=92.89%\n",
            "[81/100] train: loss=0.1325 acc=95.24% | test: loss=0.1981 acc=92.73%\n",
            "[82/100] train: loss=0.1324 acc=95.10% | test: loss=0.1958 acc=92.92%\n",
            "[83/100] train: loss=0.1317 acc=95.15% | test: loss=0.1984 acc=92.75%\n",
            "[84/100] train: loss=0.1291 acc=95.26% | test: loss=0.1957 acc=92.89%\n",
            "[85/100] train: loss=0.1287 acc=95.28% | test: loss=0.2034 acc=92.79%\n",
            "[86/100] train: loss=0.1246 acc=95.47% | test: loss=0.1982 acc=92.90%\n",
            "[87/100] train: loss=0.1239 acc=95.45% | test: loss=0.1970 acc=93.02%\n",
            "[88/100] train: loss=0.1232 acc=95.48% | test: loss=0.1973 acc=93.00%\n",
            "[89/100] train: loss=0.1216 acc=95.55% | test: loss=0.1975 acc=93.13%\n",
            "[90/100] train: loss=0.1222 acc=95.51% | test: loss=0.2041 acc=93.11%\n",
            "[91/100] train: loss=0.1197 acc=95.62% | test: loss=0.1975 acc=92.98%\n",
            "[92/100] train: loss=0.1184 acc=95.71% | test: loss=0.2055 acc=92.82%\n",
            "[93/100] train: loss=0.1169 acc=95.71% | test: loss=0.1973 acc=93.04%\n",
            "[94/100] train: loss=0.1140 acc=95.85% | test: loss=0.2023 acc=92.85%\n",
            "[95/100] train: loss=0.1143 acc=95.86% | test: loss=0.1960 acc=93.05%\n",
            "[96/100] train: loss=0.1128 acc=95.88% | test: loss=0.1970 acc=93.09%\n",
            "[97/100] train: loss=0.1117 acc=95.92% | test: loss=0.2026 acc=92.94%\n",
            "[98/100] train: loss=0.1111 acc=95.98% | test: loss=0.2002 acc=93.00%\n",
            "[99/100] train: loss=0.1103 acc=95.91% | test: loss=0.1960 acc=93.03%\n",
            "[100/100] train: loss=0.1085 acc=96.13% | test: loss=0.1987 acc=93.00%\n"
          ]
        }
      ]
    },
    {
      "cell_type": "markdown",
      "source": [
        "## Wizualizacja wyników"
      ],
      "metadata": {
        "id": "ocZm92I7om9l"
      }
    },
    {
      "cell_type": "code",
      "source": [
        "fig = plt.figure(figsize=(8, 4))\n",
        "plt.subplot(1,2,1)\n",
        "plt.plot(tr_loss_res, label=\"Train\")\n",
        "plt.plot(te_loss_res, label=\"Test\")\n",
        "plt.legend()\n",
        "plt.title(\"Loss\")\n",
        "plt.legend()\n",
        "plt.subplot(1,2,2)\n",
        "plt.plot(tr_acc_res, label=\"Train\")\n",
        "plt.plot(te_acc_res, label=\"Test\")\n",
        "plt.legend()\n",
        "plt.title(\"Accuracy\")\n",
        "\n",
        "plt.show();"
      ],
      "metadata": {
        "colab": {
          "base_uri": "https://localhost:8080/",
          "height": 391
        },
        "id": "r66J9Xq-NDCk",
        "outputId": "97cfa742-a26a-4671-a0de-dd63d8b0df5e"
      },
      "execution_count": null,
      "outputs": [
        {
          "output_type": "display_data",
          "data": {
            "text/plain": [
              "<Figure size 800x400 with 2 Axes>"
            ],
            "image/png": "[encoded data removed]"
          },
          "metadata": {}
        }
      ]
    }
  ]
}